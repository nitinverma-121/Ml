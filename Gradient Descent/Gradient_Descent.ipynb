{
 "cells": [
  {
   "cell_type": "code",
   "execution_count": 33,
   "metadata": {},
   "outputs": [],
   "source": [
    "import numpy as np\n",
    "from sklearn.linear_model import LinearRegression \n",
    "import pandas as pd\n",
    "import math\n",
    "from pandas import DataFrame"
   ]
  },
  {
   "cell_type": "code",
   "execution_count": 3,
   "metadata": {},
   "outputs": [],
   "source": [
    "#data set\n",
    "x= np.array([1, 2, 3, 4, 5]) #features\n",
    "y= np.array([5, 7, 9, 11, 13]) #target"
   ]
  },
  {
   "cell_type": "code",
   "execution_count": 4,
   "metadata": {},
   "outputs": [
    {
     "name": "stdout",
     "output_type": "stream",
     "text": [
      "w 2.000000000000002\n",
      "b 2.999999999999995\n",
      "Cost 1.0255191767873153e-29\n"
     ]
    }
   ],
   "source": [
    "#gradient Descent algorithm\n",
    "\n",
    "#y(hat)= wx + b\n",
    "\n",
    "max_itr= 10000\n",
    "\n",
    "w_cur= 0\n",
    "b_Cur= 0 \n",
    "alpha= 0.08\n",
    "\n",
    "for i in range(max_itr):\n",
    "    y_hat= w_cur * x + b_Cur\n",
    "    cost= 1/y.size * sum((y- y_hat) **2)\n",
    "    d_w= (-2/y.size) * sum((y- y_hat)*(x))\n",
    "    d_b= (-2/y.size) * sum(y- y_hat)\n",
    "    w_cur= w_cur- alpha * d_w\n",
    "    b_Cur= b_Cur- alpha * d_b\n",
    "\n",
    "\n",
    "print('w' , w_cur)\n",
    "print('b' , b_Cur)\n",
    "print('Cost', cost)\n"
   ]
  },
  {
   "cell_type": "markdown",
   "metadata": {},
   "source": [
    "#### We Cannot directly apply Linear regression on numpy arrays\n",
    "#### we have to first convert the numpy array to a dummy data frame to regression on it"
   ]
  },
  {
   "cell_type": "code",
   "execution_count": 12,
   "metadata": {},
   "outputs": [
    {
     "name": "stdout",
     "output_type": "stream",
     "text": [
      "b [3.]\n",
      "w [[2.]]\n"
     ]
    }
   ],
   "source": [
    "data_x= DataFrame(x, columns=['dummmy'])\n",
    "data_y= DataFrame(y, columns=['dummy'])\n",
    "\n",
    "reg= LinearRegression().fit(data_x, data_y)\n",
    "\n",
    "print('b', reg.intercept_)\n",
    "print('w', reg.coef_)\n"
   ]
  },
  {
   "cell_type": "markdown",
   "metadata": {},
   "source": [
    "### EXERCISE"
   ]
  },
  {
   "cell_type": "code",
   "execution_count": 14,
   "metadata": {},
   "outputs": [
    {
     "data": {
      "text/html": [
       "<div>\n",
       "<style scoped>\n",
       "    .dataframe tbody tr th:only-of-type {\n",
       "        vertical-align: middle;\n",
       "    }\n",
       "\n",
       "    .dataframe tbody tr th {\n",
       "        vertical-align: top;\n",
       "    }\n",
       "\n",
       "    .dataframe thead th {\n",
       "        text-align: right;\n",
       "    }\n",
       "</style>\n",
       "<table border=\"1\" class=\"dataframe\">\n",
       "  <thead>\n",
       "    <tr style=\"text-align: right;\">\n",
       "      <th></th>\n",
       "      <th>name</th>\n",
       "      <th>math</th>\n",
       "      <th>cs</th>\n",
       "    </tr>\n",
       "  </thead>\n",
       "  <tbody>\n",
       "    <tr>\n",
       "      <th>0</th>\n",
       "      <td>david</td>\n",
       "      <td>92</td>\n",
       "      <td>98</td>\n",
       "    </tr>\n",
       "    <tr>\n",
       "      <th>1</th>\n",
       "      <td>laura</td>\n",
       "      <td>56</td>\n",
       "      <td>68</td>\n",
       "    </tr>\n",
       "    <tr>\n",
       "      <th>2</th>\n",
       "      <td>sanjay</td>\n",
       "      <td>88</td>\n",
       "      <td>81</td>\n",
       "    </tr>\n",
       "    <tr>\n",
       "      <th>3</th>\n",
       "      <td>wei</td>\n",
       "      <td>70</td>\n",
       "      <td>80</td>\n",
       "    </tr>\n",
       "    <tr>\n",
       "      <th>4</th>\n",
       "      <td>jeff</td>\n",
       "      <td>80</td>\n",
       "      <td>83</td>\n",
       "    </tr>\n",
       "    <tr>\n",
       "      <th>5</th>\n",
       "      <td>aamir</td>\n",
       "      <td>49</td>\n",
       "      <td>52</td>\n",
       "    </tr>\n",
       "    <tr>\n",
       "      <th>6</th>\n",
       "      <td>venkat</td>\n",
       "      <td>65</td>\n",
       "      <td>66</td>\n",
       "    </tr>\n",
       "    <tr>\n",
       "      <th>7</th>\n",
       "      <td>virat</td>\n",
       "      <td>35</td>\n",
       "      <td>30</td>\n",
       "    </tr>\n",
       "    <tr>\n",
       "      <th>8</th>\n",
       "      <td>arthur</td>\n",
       "      <td>66</td>\n",
       "      <td>68</td>\n",
       "    </tr>\n",
       "    <tr>\n",
       "      <th>9</th>\n",
       "      <td>paul</td>\n",
       "      <td>67</td>\n",
       "      <td>73</td>\n",
       "    </tr>\n",
       "  </tbody>\n",
       "</table>\n",
       "</div>"
      ],
      "text/plain": [
       "     name  math  cs\n",
       "0   david    92  98\n",
       "1   laura    56  68\n",
       "2  sanjay    88  81\n",
       "3     wei    70  80\n",
       "4    jeff    80  83\n",
       "5   aamir    49  52\n",
       "6  venkat    65  66\n",
       "7   virat    35  30\n",
       "8  arthur    66  68\n",
       "9    paul    67  73"
      ]
     },
     "execution_count": 14,
     "metadata": {},
     "output_type": "execute_result"
    }
   ],
   "source": [
    "test_data= pd.read_csv('test_scores.csv')\n",
    "test_data"
   ]
  },
  {
   "cell_type": "code",
   "execution_count": 74,
   "metadata": {},
   "outputs": [],
   "source": [
    "x_features= DataFrame(data= test_data, columns=['math']) #x\n",
    "y_target= DataFrame(data= test_data, columns= ['cs']) #y"
   ]
  },
  {
   "cell_type": "code",
   "execution_count": 92,
   "metadata": {},
   "outputs": [
    {
     "name": "stdout",
     "output_type": "stream",
     "text": [
      "My predictions: \n",
      "w:  [1.01773624]\n",
      "b:  [1.91521929]\n",
      "Predictions using sklearn: \n",
      "w [[1.01773624]]\n",
      "b [1.91521931]\n"
     ]
    }
   ],
   "source": [
    "#RUN THE GRADIENT DESCENT ALGORITHM\n",
    "\n",
    "x= x_features.to_numpy()\n",
    "y= y_target.to_numpy()\n",
    "n= x.size\n",
    "\n",
    "\n",
    "w= 0 \n",
    "b= 0\n",
    "\n",
    "\n",
    "#y(hat)= w * x + b\n",
    "#new= old- something\n",
    "#we want this something to be as precise as 1e-20\n",
    "\n",
    "max_itr= 1000000\n",
    "alpha= 0.00021\n",
    "\n",
    "for i in range(max_itr):\n",
    "    y_hat= w * x + b\n",
    "\n",
    "    cost= 1/n * sum((y- y_hat) ** 2)\n",
    "    der_w= (-2/n) * sum((y- y_hat)* x)\n",
    "    der_b= (-2/n) * sum(y- y_hat)\n",
    "    \n",
    "    if(math.isclose(w, w- alpha * der_w, rel_tol= 1e-20)== True):\n",
    "        break\n",
    "    if(math.isclose(b, b- alpha * der_b, rel_tol= 1e-20)== True): \n",
    "        break\n",
    "\n",
    "    w= w-  alpha * der_w\n",
    "    b= b-  alpha * der_b\n",
    "\n",
    "print('My predictions: ')\n",
    "\n",
    "print('w: ', w)\n",
    "print('b: ', b)\n",
    "\n",
    "\n",
    "print('Predictions using sklearn: ')\n",
    "\n",
    "reg= LinearRegression().fit(x_features, x_target)\n",
    "\n",
    "print('w', reg.coef_)\n",
    "print('b', reg.intercept_)\n",
    "\n",
    "\n"
   ]
  },
  {
   "cell_type": "code",
   "execution_count": null,
   "metadata": {},
   "outputs": [],
   "source": []
  },
  {
   "cell_type": "code",
   "execution_count": null,
   "metadata": {},
   "outputs": [],
   "source": []
  },
  {
   "cell_type": "code",
   "execution_count": null,
   "metadata": {},
   "outputs": [],
   "source": []
  },
  {
   "cell_type": "code",
   "execution_count": null,
   "metadata": {},
   "outputs": [],
   "source": []
  }
 ],
 "metadata": {
  "kernelspec": {
   "display_name": "Python 3.10.5 64-bit",
   "language": "python",
   "name": "python3"
  },
  "language_info": {
   "codemirror_mode": {
    "name": "ipython",
    "version": 3
   },
   "file_extension": ".py",
   "mimetype": "text/x-python",
   "name": "python",
   "nbconvert_exporter": "python",
   "pygments_lexer": "ipython3",
   "version": "3.10.5"
  },
  "orig_nbformat": 4,
  "vscode": {
   "interpreter": {
    "hash": "322dcc326b8ea01644e03ab756656fc702b5d1ead5ad4887afbe2a96bd2655fd"
   }
  }
 },
 "nbformat": 4,
 "nbformat_minor": 2
}
